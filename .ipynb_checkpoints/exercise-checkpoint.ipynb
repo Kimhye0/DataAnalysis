{
 "cells": [
  {
   "cell_type": "markdown",
   "metadata": {},
   "source": [
    "## Data Analysis example\n",
    "pandas 예제"
   ]
  },
  {
   "cell_type": "code",
   "execution_count": 1,
   "metadata": {},
   "outputs": [],
   "source": [
    "import pandas as pd\n",
    "data = [1,3,5,7,9]\n",
    "s = pd.Series(data)"
   ]
  },
  {
   "cell_type": "code",
   "execution_count": 2,
   "metadata": {
    "scrolled": true
   },
   "outputs": [
    {
     "data": {
      "text/plain": [
       "0    1\n",
       "1    3\n",
       "2    5\n",
       "3    7\n",
       "4    9\n",
       "dtype: int64"
      ]
     },
     "execution_count": 2,
     "metadata": {},
     "output_type": "execute_result"
    }
   ],
   "source": [
    "s"
   ]
  },
  {
   "cell_type": "code",
   "execution_count": 6,
   "metadata": {},
   "outputs": [
    {
     "name": "stdout",
     "output_type": "stream",
     "text": [
      "2016-02-19    92600\n",
      "2016-02-18    92400\n",
      "2016-02-17    92100\n",
      "2016-02-16    94300\n",
      "2016-02-15    92300\n",
      "dtype: int64\n"
     ]
    }
   ],
   "source": [
    "kakao2 = pd.Series([92600, 92400, 92100, 94300, 92300], index=['2016-02-19',\n",
    "                                                            '2016-02-18',\n",
    "                                                            '2016-02-17',\n",
    "                                                            '2016-02-16',\n",
    "                                                            '2016-02-15'])\n",
    "print(kakao2)"
   ]
  },
  {
   "cell_type": "code",
   "execution_count": 11,
   "metadata": {},
   "outputs": [
    {
     "data": {
      "text/plain": [
       "'You need Pytho'"
      ]
     },
     "execution_count": 11,
     "metadata": {},
     "output_type": "execute_result"
    }
   ],
   "source": [
    "a = \"Life is too short, You need Python\"\n"
   ]
  },
  {
   "cell_type": "code",
   "execution_count": 18,
   "metadata": {},
   "outputs": [
    {
     "data": {
      "text/plain": [
       "'Rainy'"
      ]
     },
     "execution_count": 18,
     "metadata": {},
     "output_type": "execute_result"
    }
   ],
   "source": [
    "a = \"20010331Rainy\"\n",
    "date = a[:8]\n",
    "weather = a[8:]\n",
    "weather"
   ]
  },
  {
   "cell_type": "code",
   "execution_count": 22,
   "metadata": {},
   "outputs": [
    {
     "data": {
      "text/plain": [
       "'I eat five apples.'"
      ]
     },
     "execution_count": 22,
     "metadata": {},
     "output_type": "execute_result"
    }
   ],
   "source": [
    "\"I eat %s apples.\" % \"five\"\n"
   ]
  },
  {
   "cell_type": "code",
   "execution_count": 2,
   "metadata": {},
   "outputs": [
    {
     "data": {
      "text/plain": [
       "'[\\'\\\\n\\', \\' 본문 내용 \\', \\'\\\\n\\', \\' TV플레이어 \\', \\'\\\\n\\', \\' // TV플레이어 \\', \\'\\\\n\\', \\'\\\\n// flash 오류를 우회하기 위한 함수 추가\\\\nfunction _flash_removeCallback() {}\\\\n\\', \\'\\\\n\\', \\'세계경제硏 초청 로버트 머튼 MIT교수 ‘핀테크와 금융’ 강연\\', \\'“핀테크가 소비자 신뢰 얻는다면   \\', \\'기술에 대한 믿음이 커져 발전  \\', \\'규제 당국, 신뢰 생성 중요 역할”\\', \\'“금융에서 신뢰가 중요하듯, 핀테크가 신뢰를 얻는다면 현재보다 훨씬 큰 도약을 할 수 있을 것입니다.”\\', \\'로버트 머튼(75·사진) 미국 매사추세츠공대(MIT) 석좌교수가 27일 오전 서울 중구 웨스틴조선호텔에서 ‘금융혁신, 핀테크와 금융의 미래’를 주제로 세계경제연구원 초청 조찬 강연에서 “혁신은 기존에 존재하는 모범 사례를 보는 것이 아니라 앞에서 변화하는 것”이라며 이같이 말했다. \\', \\'머튼 교수는 “혁신은 미래에 있고 미래에 집중하는 것이 필요하다”면서 “특히 오늘날 금융산업에서는 기술과의 접목을 통한 핀테크가 금융 산업을 바꾸고 있다”고 진단했다. 금융 전문가인 그는 파생상품 가치 평가에 대한 새로운 방법 연구로 노벨 경제학상을 수상한 바 있다. \\', \\'그는 미래의 금융 산업에 대해 신뢰와 투명성, 검증 가능성을 가장 중요한 요소로 지목하고 “모바일 페이 등 지불 분야는 실험과 검증이 쉽다”면서 “빠르게 자리를 잡을 것으로 보인다”고 말했다. 그러나 “만약 구글의 인공지능(AI) 스피커에 ‘어디 투자하는 것이 좋겠느냐’라고 물어봤는데 2초 만에 ‘비트코인에 100% 투자하세요’라는 답이 나온다고 이를 믿고 실행에 옮기는 사람은 적을 것”이라고 지적했다. \\', \\'머튼 교수는 “AI의 답을 듣고 이대로 실행하지 않는 이유는 AI의 판단 과정에 대한 신뢰가 없기 때문”이라면서 “만약 전문가가 AI를 신뢰하고 소비자가 전문가를 신뢰한다면 전문가는 AI를 이용해 고객에게 자문할 수 있을 것”이라고 말했다. 즉, 금융과 기술의 융합이 그 영역을 확대하는 데 가장 핵심적인 요소는 ‘신뢰’라는 것이다. 그는 “핀테크가 성공하기 위해서는 신뢰를 얻어야 하고 신뢰를 얻는다면 그 기술에 대한 사람들의 믿음이 커져 더욱 발전할 수 있을 것”으로 내다봤다. \\', \\'머튼 교수는 지난 2008년 금융 위기 당시 금융의 신뢰가 크게 하락한 바 있다는 점을 상기하며 “규제 당국은 신뢰 생성에서 대단히 중요한 역할을 한다”고 지적했다. 소비자가 모든 금융회사에서 일어나는 모든 행위를 투명하게 검증하는 것은 불가능하고 당국 역시 모든 것을 감시하는 것은 비현실적이기 때문에 금융사와 규제 당국 간의 신뢰가 중요하다는 것이다.  \\', \\'박세영 기자 go@munhwa.com\\', \\'[ \\', \\'문화닷컴 바로가기\\', \\' | \\', \\'문화일보가 직접 편집한 뉴스 채널\\', \\' | \\', \\'모바일 웹\\', \\' ]\\', \"[Copyrightⓒmunhwa.com \\'대한민국 오후를 여는 유일석간 문화일보\\' 무단 전재 및 재배포 금지(\", \\'구독신청:02)3701-5555\\', \\')]\\\\n\\\\t\\', \\' // 본문 내용 \\', \\'\\\\n\\']'"
      ]
     },
     "execution_count": 2,
     "metadata": {},
     "output_type": "execute_result"
    }
   ],
   "source": [
    "from bs4 import BeautifulSoup\n",
    "import urllib.request\n",
    "\n",
    "\n",
    "#출력 파일명\n",
    "OUTPUT_FILE_NAME = 'output.txt'\n",
    "\n",
    "URL = 'https://news.naver.com/main/read.nhn?mode=LSD&mid=sec&sid1=001&oid=021&aid=0002385984'\n",
    "\n",
    "def get_text(url):\n",
    "    source_code_from_url = urllib.request.urlopen(url)\n",
    "    soup = BeautifulSoup(source_code_from_url,'lxml',from_encoding='utf-8')\n",
    "    text=''\n",
    "    for item in soup.find_all('div',id='articleBodyContents'):\n",
    "        text = text + str(item.find_all(text=True))\n",
    "    return text\n",
    "\n"
   ]
  },
  {
   "cell_type": "code",
   "execution_count": null,
   "metadata": {},
   "outputs": [],
   "source": []
  }
 ],
 "metadata": {
  "kernelspec": {
   "display_name": "Python 3",
   "language": "python",
   "name": "python3"
  },
  "language_info": {
   "codemirror_mode": {
    "name": "ipython",
    "version": 3
   },
   "file_extension": ".py",
   "mimetype": "text/x-python",
   "name": "python",
   "nbconvert_exporter": "python",
   "pygments_lexer": "ipython3",
   "version": "3.7.1"
  }
 },
 "nbformat": 4,
 "nbformat_minor": 2
}
